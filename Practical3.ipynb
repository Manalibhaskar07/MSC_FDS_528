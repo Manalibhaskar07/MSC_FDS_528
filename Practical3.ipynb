{
  "nbformat": 4,
  "nbformat_minor": 0,
  "metadata": {
    "colab": {
      "provenance": [],
      "collapsed_sections": [],
      "authorship_tag": "ABX9TyNl9zPaUOS6uZxqJjMDXEBQ",
      "include_colab_link": true
    },
    "kernelspec": {
      "name": "python3",
      "display_name": "Python 3"
    },
    "language_info": {
      "name": "python"
    }
  },
  "cells": [
    {
      "cell_type": "markdown",
      "metadata": {
        "id": "view-in-github",
        "colab_type": "text"
      },
      "source": [
        "<a href=\"https://colab.research.google.com/github/Manalibhaskar07/MSC_FDS_528/blob/main/Practical3.ipynb\" target=\"_parent\"><img src=\"https://colab.research.google.com/assets/colab-badge.svg\" alt=\"Open In Colab\"/></a>"
      ]
    },
    {
      "cell_type": "code",
      "execution_count": 2,
      "metadata": {
        "id": "ur4RFNnVySC3"
      },
      "outputs": [],
      "source": [
        "import pandas as pd\n",
        "import numpy as np\n",
        "import matplotlib.pyplot as plt\n",
        "import seaborn as sns\n",
        "import os"
      ]
    },
    {
      "cell_type": "code",
      "source": [
        "cars_data=pd.read_csv('/content/Toyota.csv',index_col=0,na_values=[\"??\",\"???\"])\n",
        "cars_data.size"
      ],
      "metadata": {
        "colab": {
          "base_uri": "https://localhost:8080/"
        },
        "id": "GoccVPas074N",
        "outputId": "ae4045df-4189-4ae9-9fbd-b63d028253fd"
      },
      "execution_count": 9,
      "outputs": [
        {
          "output_type": "execute_result",
          "data": {
            "text/plain": [
              "14360"
            ]
          },
          "metadata": {},
          "execution_count": 9
        }
      ]
    },
    {
      "cell_type": "code",
      "source": [
        "cars_data.dropna(axis=0,inplace=True)\n",
        "cars_data.size"
      ],
      "metadata": {
        "colab": {
          "base_uri": "https://localhost:8080/"
        },
        "id": "KPmksuHc24IN",
        "outputId": "37f875fb-4d89-4f0a-b13f-c30403fa7f6e"
      },
      "execution_count": 11,
      "outputs": [
        {
          "output_type": "execute_result",
          "data": {
            "text/plain": [
              "10990"
            ]
          },
          "metadata": {},
          "execution_count": 11
        }
      ]
    },
    {
      "cell_type": "code",
      "source": [
        "cars_data=pd.read_csv('/content/Toyota.csv')\n",
        "cars_data.head"
      ],
      "metadata": {
        "colab": {
          "base_uri": "https://localhost:8080/"
        },
        "id": "-U-bKnL94AUd",
        "outputId": "4ba56101-eb80-4846-eff2-2e4a438a3add"
      },
      "execution_count": 12,
      "outputs": [
        {
          "output_type": "execute_result",
          "data": {
            "text/plain": [
              "<bound method NDFrame.head of       Unnamed: 0  Price   Age     KM FuelType   HP  MetColor  Automatic    CC  \\\n",
              "0              0  13500  23.0  46986   Diesel   90       1.0          0  2000   \n",
              "1              1  13750  23.0  72937   Diesel   90       1.0          0  2000   \n",
              "2              2  13950  24.0  41711   Diesel   90       NaN          0  2000   \n",
              "3              3  14950  26.0  48000   Diesel   90       0.0          0  2000   \n",
              "4              4  13750  30.0  38500   Diesel   90       0.0          0  2000   \n",
              "...          ...    ...   ...    ...      ...  ...       ...        ...   ...   \n",
              "1431        1431   7500   NaN  20544   Petrol   86       1.0          0  1300   \n",
              "1432        1432  10845  72.0     ??   Petrol   86       0.0          0  1300   \n",
              "1433        1433   8500   NaN  17016   Petrol   86       0.0          0  1300   \n",
              "1434        1434   7250  70.0     ??      NaN   86       1.0          0  1300   \n",
              "1435        1435   6950  76.0      1   Petrol  110       0.0          0  1600   \n",
              "\n",
              "      Doors  Weight  \n",
              "0     three    1165  \n",
              "1         3    1165  \n",
              "2         3    1165  \n",
              "3         3    1165  \n",
              "4         3    1170  \n",
              "...     ...     ...  \n",
              "1431      3    1025  \n",
              "1432      3    1015  \n",
              "1433      3    1015  \n",
              "1434      3    1015  \n",
              "1435      5    1114  \n",
              "\n",
              "[1436 rows x 11 columns]>"
            ]
          },
          "metadata": {},
          "execution_count": 12
        }
      ]
    },
    {
      "cell_type": "code",
      "source": [
        "cars_data=pd.read_csv('/content/Toyota.csv',index_col=0)\n",
        "cars_data.head"
      ],
      "metadata": {
        "colab": {
          "base_uri": "https://localhost:8080/"
        },
        "id": "M6O9fLJX4S2R",
        "outputId": "24cbb30c-b8e7-46cf-ff2c-0965bbcc2f70"
      },
      "execution_count": 13,
      "outputs": [
        {
          "output_type": "execute_result",
          "data": {
            "text/plain": [
              "<bound method NDFrame.head of       Price   Age     KM FuelType   HP  MetColor  Automatic    CC  Doors  \\\n",
              "0     13500  23.0  46986   Diesel   90       1.0          0  2000  three   \n",
              "1     13750  23.0  72937   Diesel   90       1.0          0  2000      3   \n",
              "2     13950  24.0  41711   Diesel   90       NaN          0  2000      3   \n",
              "3     14950  26.0  48000   Diesel   90       0.0          0  2000      3   \n",
              "4     13750  30.0  38500   Diesel   90       0.0          0  2000      3   \n",
              "...     ...   ...    ...      ...  ...       ...        ...   ...    ...   \n",
              "1431   7500   NaN  20544   Petrol   86       1.0          0  1300      3   \n",
              "1432  10845  72.0     ??   Petrol   86       0.0          0  1300      3   \n",
              "1433   8500   NaN  17016   Petrol   86       0.0          0  1300      3   \n",
              "1434   7250  70.0     ??      NaN   86       1.0          0  1300      3   \n",
              "1435   6950  76.0      1   Petrol  110       0.0          0  1600      5   \n",
              "\n",
              "      Weight  \n",
              "0       1165  \n",
              "1       1165  \n",
              "2       1165  \n",
              "3       1165  \n",
              "4       1170  \n",
              "...      ...  \n",
              "1431    1025  \n",
              "1432    1015  \n",
              "1433    1015  \n",
              "1434    1015  \n",
              "1435    1114  \n",
              "\n",
              "[1436 rows x 10 columns]>"
            ]
          },
          "metadata": {},
          "execution_count": 13
        }
      ]
    },
    {
      "cell_type": "code",
      "source": [
        "sns.set(style=\"darkgrid\")\n",
        "sns.regplot(x=cars_data['Age'],y=cars_data['Price'])"
      ],
      "metadata": {
        "colab": {
          "base_uri": "https://localhost:8080/",
          "height": 302
        },
        "id": "8kB9G6ak3uGh",
        "outputId": "6caf480e-d4ac-449a-fa55-8a786d601873"
      },
      "execution_count": 14,
      "outputs": [
        {
          "output_type": "execute_result",
          "data": {
            "text/plain": [
              "<matplotlib.axes._subplots.AxesSubplot at 0x7f881e097e50>"
            ]
          },
          "metadata": {},
          "execution_count": 14
        },
        {
          "output_type": "display_data",
          "data": {
            "text/plain": [
              "<Figure size 432x288 with 1 Axes>"
            ],
            "image/png": "[encoded data removed]"
          },
          "metadata": {}
        }
      ]
    }
  ]
}