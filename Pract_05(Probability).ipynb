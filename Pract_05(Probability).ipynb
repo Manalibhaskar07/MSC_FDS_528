{
  "nbformat": 4,
  "nbformat_minor": 0,
  "metadata": {
    "colab": {
      "provenance": [],
      "authorship_tag": "ABX9TyOCT51izG1ZoBJ0BNqaeFwQ",
      "include_colab_link": true
    },
    "kernelspec": {
      "name": "python3",
      "display_name": "Python 3"
    },
    "language_info": {
      "name": "python"
    }
  },
  "cells": [
    {
      "cell_type": "markdown",
      "metadata": {
        "id": "view-in-github",
        "colab_type": "text"
      },
      "source": [
        "<a href=\"https://colab.research.google.com/github/Manalibhaskar07/MSC_FDS_528/blob/main/Pract_05(Probability).ipynb\" target=\"_parent\"><img src=\"https://colab.research.google.com/assets/colab-badge.svg\" alt=\"Open In Colab\"/></a>"
      ]
    },
    {
      "cell_type": "code",
      "execution_count": 1,
      "metadata": {
        "colab": {
          "base_uri": "https://localhost:8080/"
        },
        "id": "ZOMaTj2-w370",
        "outputId": "455b68c8-2dfd-4406-f0f4-7f6f21fddd14"
      },
      "outputs": [
        {
          "output_type": "stream",
          "name": "stdout",
          "text": [
            "probability of getting 3 is: 0.16666666666666666\n"
          ]
        }
      ],
      "source": [
        "ns = 6 #n(S) = {1,2,3,4,5,6}\n",
        "na = 1 #n(A) = {3}\n",
        "pa = na/ns # P(A)\n",
        "print(\"probability of getting 3 is:\",pa)"
      ]
    },
    {
      "cell_type": "code",
      "source": [
        "ns = 8 #n(S) = {HHH, HHT, HTH, THH, TTH, THT, HTT, TTT}\n",
        "na = 7 #n(A) = {HHH, HHT, HTH, THH, TTH, THT, HTT}\n",
        "pa = na/ns # P(A)\n",
        "print(\"probability of getting atleast one head is:\",pa)"
      ],
      "metadata": {
        "colab": {
          "base_uri": "https://localhost:8080/"
        },
        "id": "C_adOZ0R1D-t",
        "outputId": "8e0a4cb9-ffa2-4e93-dabe-466636f9be62"
      },
      "execution_count": 2,
      "outputs": [
        {
          "output_type": "stream",
          "name": "stdout",
          "text": [
            "probability of getting atleast one head is: 0.875\n"
          ]
        }
      ]
    },
    {
      "cell_type": "code",
      "source": [
        "ns = 10 #n(S) = {5red,3blue,2green}\n",
        "na = 7 #n(A) = {5red, 2green}\n",
        "pa = na/ns # P(A)\n",
        "print(\"probability of getting not blue jellybean is:\",pa)"
      ],
      "metadata": {
        "colab": {
          "base_uri": "https://localhost:8080/"
        },
        "id": "7Ehvc4Ux1Io-",
        "outputId": "207c479b-0b20-42a3-a02a-1ee4863e5239"
      },
      "execution_count": 3,
      "outputs": [
        {
          "output_type": "stream",
          "name": "stdout",
          "text": [
            "probability of getting not blue jellybean is: 0.7\n"
          ]
        }
      ]
    },
    {
      "cell_type": "code",
      "source": [
        "P = 0.7*0.5\n",
        "print(\"probability that they will be alive after 20 years is:\",P)"
      ],
      "metadata": {
        "colab": {
          "base_uri": "https://localhost:8080/"
        },
        "id": "cA9m_lv51KqZ",
        "outputId": "7b7f0d6c-0841-4f99-feb1-4627c771bf69"
      },
      "execution_count": 4,
      "outputs": [
        {
          "output_type": "stream",
          "name": "stdout",
          "text": [
            "probability that they will be alive after 20 years is: 0.35\n"
          ]
        }
      ]
    },
    {
      "cell_type": "code",
      "source": [
        "def event_probability(n,s):\n",
        "  return n/s"
      ],
      "metadata": {
        "id": "1VXwroHC1PdZ"
      },
      "execution_count": 6,
      "outputs": []
    },
    {
      "cell_type": "code",
      "source": [
        "print(\"probability of getting a 4 or 5 on the first toss and a 1,2, or 3 in the second toss is:\",P)"
      ],
      "metadata": {
        "colab": {
          "base_uri": "https://localhost:8080/"
        },
        "id": "ZbET-V-91ZkC",
        "outputId": "6f374b8b-d28f-4983-d269-be94e15851cd"
      },
      "execution_count": 7,
      "outputs": [
        {
          "output_type": "stream",
          "name": "stdout",
          "text": [
            "probability of getting a 4 or 5 on the first toss and a 1,2, or 3 in the second toss is: 0.35\n"
          ]
        }
      ]
    },
    {
      "cell_type": "code",
      "source": [
        "pw = event_probability(5,10)\n",
        "pb = event_probability(3,9)\n",
        "pg = event_probability(2,8)\n",
        "print(\"the probability of obtaining white, black and green in that order is \",(pw*pb*pg))"
      ],
      "metadata": {
        "colab": {
          "base_uri": "https://localhost:8080/"
        },
        "id": "aQERSY451fXu",
        "outputId": "13e0dfa6-111d-45af-9688-46d71cd65538"
      },
      "execution_count": 8,
      "outputs": [
        {
          "output_type": "stream",
          "name": "stdout",
          "text": [
            "the probability of obtaining white, black and green in that order is  0.041666666666666664\n"
          ]
        }
      ]
    },
    {
      "cell_type": "code",
      "source": [
        "cards = 52"
      ],
      "metadata": {
        "id": "HYQLIUOX1liv"
      },
      "execution_count": 9,
      "outputs": []
    },
    {
      "cell_type": "code",
      "source": [
        "hearts = 13\n",
        "clubs = 13\n",
        "heart_or_club = event_probability(hearts, cards) + event_probability(clubs, cards)\n",
        "print(heart_or_club )"
      ],
      "metadata": {
        "colab": {
          "base_uri": "https://localhost:8080/"
        },
        "id": "a5HxdqEX1o3e",
        "outputId": "27e16e40-f9cc-4e8a-c969-2b36d2d8a164"
      },
      "execution_count": 10,
      "outputs": [
        {
          "output_type": "stream",
          "name": "stdout",
          "text": [
            "0.5\n"
          ]
        }
      ]
    },
    {
      "cell_type": "code",
      "source": [
        "aces = 4\n",
        "kings = 4\n",
        "queens = 4\n",
        "ace_king_or_queen = event_probability(aces, cards) + event_probability(kings, cards) + event_probability(queens, cards)\n",
        "\n",
        "print(heart_or_club)\n",
        "print(ace_king_or_queen)"
      ],
      "metadata": {
        "colab": {
          "base_uri": "https://localhost:8080/"
        },
        "id": "Xvff17cb1skE",
        "outputId": "f334bbd4-d811-47fc-a17f-ac38da337292"
      },
      "execution_count": 11,
      "outputs": [
        {
          "output_type": "stream",
          "name": "stdout",
          "text": [
            "0.5\n",
            "0.23076923076923078\n"
          ]
        }
      ]
    },
    {
      "cell_type": "code",
      "source": [
        "hearts = 13\n",
        "aces = 4\n",
        "ace_of_hearts = 1\n",
        "heart_or_ace = event_probability(hearts, cards) + event_probability(aces, cards) - event_probability(ace_of_hearts, cards)\n",
        "print(round(heart_or_ace, 1))"
      ],
      "metadata": {
        "colab": {
          "base_uri": "https://localhost:8080/"
        },
        "id": "SVA5S8lF1vlH",
        "outputId": "96742bf2-fe6c-4ef0-c6d8-6d4408cb75c7"
      },
      "execution_count": 12,
      "outputs": [
        {
          "output_type": "stream",
          "name": "stdout",
          "text": [
            "0.3\n"
          ]
        }
      ]
    },
    {
      "cell_type": "code",
      "source": [
        "red_cards = 26\n",
        "face_cards = 12\n",
        "red_face_cards = 6\n",
        "red_or_face_cards = event_probability(red_cards, cards) + event_probability(face_cards, cards) - event_probability(red_face_cards, cards)\n",
        "\n",
        "print(round(heart_or_ace, 1))\n",
        "print(round(red_or_face_cards, 1))"
      ],
      "metadata": {
        "colab": {
          "base_uri": "https://localhost:8080/"
        },
        "id": "zHjBVanO1y1n",
        "outputId": "c9abd23b-5180-4ee4-97db-9baf2ea6b226"
      },
      "execution_count": 13,
      "outputs": [
        {
          "output_type": "stream",
          "name": "stdout",
          "text": [
            "0.3\n",
            "0.6\n"
          ]
        }
      ]
    },
    {
      "cell_type": "code",
      "source": [
        "ns = 6 #n(S) = {1,2,3,4,5,6}\n",
        "na = 1 #n(A) = {5}\n",
        "pa = na/ns # P(A)\n",
        "print(\"probabilty of not getting 5 is:\",1-pa)"
      ],
      "metadata": {
        "colab": {
          "base_uri": "https://localhost:8080/"
        },
        "id": "APj7lkbw14DS",
        "outputId": "9f90ea8f-309e-4037-86de-c691b8cce220"
      },
      "execution_count": 14,
      "outputs": [
        {
          "output_type": "stream",
          "name": "stdout",
          "text": [
            "probabilty of not getting 5 is: 0.8333333333333334\n"
          ]
        }
      ]
    },
    {
      "cell_type": "code",
      "source": [],
      "metadata": {
        "id": "UAmpbBAI2CB9"
      },
      "execution_count": null,
      "outputs": []
    }
  ]
}